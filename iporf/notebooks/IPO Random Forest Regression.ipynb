{
 "cells": [
  {
   "cell_type": "markdown",
   "metadata": {},
   "source": [
    "# IPO Random Forest Regression\n",
    "Predicting Excess Returns using pre-IPO Data and Random Forest Regressions"
   ]
  },
  {
   "cell_type": "code",
   "execution_count": 1,
   "metadata": {},
   "outputs": [],
   "source": [
    "import psycopg2\n",
    "import os\n",
    "\n",
    "conn = psycopg2.connect(os.environ.get('DB_CONNECTION_STRING'))"
   ]
  },
  {
   "cell_type": "code",
   "execution_count": 2,
   "metadata": {},
   "outputs": [
    {
     "data": {
      "text/plain": [
       "(549,\n",
       " 'BLCT',\n",
       " 'BlueCity Holdings Ltd.',\n",
       " 'NASDAQ',\n",
       " 'Packaged Software',\n",
       " 'https://www.blued.com/en/index.html',\n",
       " 'BlueCity Holdings Ltd. designs and develops mobile application software solutions. It develops Blued mobile application, which allow users to connect with each other, express themselves, and access professional health related services and family planning services at their fingertips. The company was founded by Bao Li Ma in 2000 and is headquartered in Beijing, China.',\n",
       " '',\n",
       " 'BlueCity Holdings Ltd ADR',\n",
       " 'ad',\n",
       " 'Technology Services',\n",
       " 7372,\n",
       " None,\n",
       " None,\n",
       " None,\n",
       " None,\n",
       " None,\n",
       " None,\n",
       " None,\n",
       " None,\n",
       " datetime.datetime(2020, 7, 7, 11, 0, 0, 709000, tzinfo=psycopg2.tz.FixedOffsetTimezone(offset=0, name=None)),\n",
       " datetime.datetime(2020, 7, 7, 11, 0, 0, 709000, tzinfo=psycopg2.tz.FixedOffsetTimezone(offset=0, name=None)))"
      ]
     },
     "execution_count": 2,
     "metadata": {},
     "output_type": "execute_result"
    }
   ],
   "source": [
    "cur = conn.cursor()\n",
    "cur.execute('SELECT * FROM companies;')\n",
    "cur.fetchone()"
   ]
  },
  {
   "cell_type": "code",
   "execution_count": 4,
   "metadata": {},
   "outputs": [
    {
     "data": {
      "text/plain": [
       "(Column(name='id', type_code=23),\n",
       " Column(name='symbol', type_code=1043),\n",
       " Column(name='companyName', type_code=1043),\n",
       " Column(name='exchange', type_code=1043),\n",
       " Column(name='industry', type_code=1043),\n",
       " Column(name='website', type_code=1043),\n",
       " Column(name='description', type_code=25),\n",
       " Column(name='CEO', type_code=1043),\n",
       " Column(name='securityName', type_code=1043),\n",
       " Column(name='issueType', type_code=1043),\n",
       " Column(name='sector', type_code=1043),\n",
       " Column(name='primarySicCode', type_code=23),\n",
       " Column(name='employees', type_code=23),\n",
       " Column(name='address', type_code=1043),\n",
       " Column(name='address2', type_code=1043),\n",
       " Column(name='state', type_code=1043),\n",
       " Column(name='city', type_code=1043),\n",
       " Column(name='zip', type_code=1043),\n",
       " Column(name='country', type_code=1043),\n",
       " Column(name='phone', type_code=1043),\n",
       " Column(name='createdAt', type_code=1184),\n",
       " Column(name='updatedAt', type_code=1184))"
      ]
     },
     "execution_count": 4,
     "metadata": {},
     "output_type": "execute_result"
    }
   ],
   "source": [
    "cur.description"
   ]
  },
  {
   "cell_type": "code",
   "execution_count": null,
   "metadata": {},
   "outputs": [],
   "source": []
  }
 ],
 "metadata": {
  "kernelspec": {
   "display_name": "Python 3",
   "language": "python",
   "name": "python3"
  },
  "language_info": {
   "codemirror_mode": {
    "name": "ipython",
    "version": 3
   },
   "file_extension": ".py",
   "mimetype": "text/x-python",
   "name": "python",
   "nbconvert_exporter": "python",
   "pygments_lexer": "ipython3",
   "version": "3.8.2"
  }
 },
 "nbformat": 4,
 "nbformat_minor": 4
}
